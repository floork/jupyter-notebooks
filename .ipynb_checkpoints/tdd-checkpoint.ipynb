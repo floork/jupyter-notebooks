{
 "cells": [
  {
   "cell_type": "markdown",
   "id": "0b731959-320e-4eb7-b981-283e59040360",
   "metadata": {},
   "source": [
    "# <ins>T</ins>est <ins>D</ins>riven <ins>D</ins>evelopment\n",
    "\n",
    "## Was ist das?\n",
    "\n",
    "- auf Deutsch: Testgetriebene Entwicklung\n",
    "- meist bei agiler Entwicklung\n",
    "- Softwaretests\n",
    "\n",
    "## Warum brauchen wir die?\n",
    "\n",
    "- bei Wasserfall- oder V-Modell Tests erst ganz zum schluss\n",
    "- moegliche Folgen:\n",
    "    - Code dadurch schwer testbar\n",
    "    - evtl. nicht alles abgedeckt\n",
    "    - Tests schlecht Qualität durch Zeitdruck\n",
    "    - Nachlaessigkeiten der Programmierer\n",
    "    - evtl. arbeiten um Fehler herum\n",
    "\n",
    "## Wie macht man das?\n",
    "\n",
    "- 2 hauptbestandteile\n",
    "    - kleine Tests\n",
    "        - Modul-Tests (eng. Unit-Tests)\n",
    "    - grosse Tests\n",
    "        - Integrationstests\n",
    "        - Systemtests\n",
    "        - Akzeptanztests\n",
    "\n",
    "### Was sind diese Unit-Tests?\n",
    "\n",
    "- Test des eigenen Codes\n",
    "\n",
    "Beispiel:\n"
   ]
  },
  {
   "cell_type": "code",
   "execution_count": 1,
   "id": "306c4494-481b-4b96-9be0-74341eff7330",
   "metadata": {},
   "outputs": [],
   "source": [
    "def add_numbers(a, b):\n",
    "    return a + b"
   ]
  },
  {
   "cell_type": "code",
   "execution_count": 10,
   "id": "efb11dbf-e6f7-4bc1-974d-eb4bc9a4d306",
   "metadata": {},
   "outputs": [
    {
     "name": "stderr",
     "output_type": "stream",
     "text": [
      "E\n",
      "======================================================================\n",
      "ERROR: /home/flmr799e/ (unittest.loader._FailedTest./home/flmr799e/)\n",
      "----------------------------------------------------------------------\n",
      "AttributeError: module '__main__' has no attribute '/home/flmr799e/'\n",
      "\n",
      "----------------------------------------------------------------------\n",
      "Ran 1 test in 0.001s\n",
      "\n",
      "FAILED (errors=1)\n"
     ]
    },
    {
     "ename": "SystemExit",
     "evalue": "True",
     "output_type": "error",
     "traceback": [
      "An exception has occurred, use %tb to see the full traceback.\n",
      "\u001b[0;31mSystemExit\u001b[0m\u001b[0;31m:\u001b[0m True\n"
     ]
    },
    {
     "name": "stderr",
     "output_type": "stream",
     "text": [
      "/home/flmr799e/.cache/pypoetry/virtualenvs/tdd-presentation-fY9VijMo-py3.11/lib/python3.11/site-packages/IPython/core/interactiveshell.py:3558: UserWarning: To exit: use 'exit', 'quit', or Ctrl-D.\n",
      "  warn(\"To exit: use 'exit', 'quit', or Ctrl-D.\", stacklevel=1)\n"
     ]
    }
   ],
   "source": [
    "import unittest\n",
    "\n",
    "class TestAddNumbers(unittest.TestCase):\n",
    "    def test_add_numbers(self):\n",
    "        self.assertEqual(add_numbers(2, 3), 5)\n",
    "        self.assertTrue(add_numbers(-1, 1) == 0)\n",
    "        self.assertEqual(add_numbers(0, 0), 0)\n",
    "        self.assertFalse(add_numbers(5, -3) == 3)\n",
    "\n",
    "# Run the tests\n",
    "unittest.main()"
   ]
  },
  {
   "cell_type": "markdown",
   "id": "4d6270c2-7032-4795-9bff-2b23af757503",
   "metadata": {},
   "source": [
    "\n",
    "### Was sind diese Integrationstests?\n",
    "\n",
    "- aufeinander abgestimmte Testreihe\n",
    "\n",
    "Beispiel:\n",
    "\n"
   ]
  },
  {
   "cell_type": "code",
   "execution_count": null,
   "id": "870bf31e-9570-4b0d-940e-9999cea640ae",
   "metadata": {},
   "outputs": [],
   "source": [
    "print(\"temp\")"
   ]
  },
  {
   "cell_type": "markdown",
   "id": "6368d1ef-c12f-49e2-9b1f-989219eb9113",
   "metadata": {},
   "source": [
    "## Was brauche ich dafuer?\n",
    "\n",
    "- Unit test library\n",
    "    - zum erstellen der Unit-Tests\n",
    "    - nutzt of Mock Objekte\n",
    "- Integriete Testumgebung\n",
    "    - Jenkins\n",
    "    - Github Actions / Gitlab Pipeline / etc.\n",
    "\n",
    "### Was ist ein Mock\n",
    "\n",
    "> Mock ist Gott... oder zum mindestens so etwas in der Art\n",
    "- \"kuenstliche\" Objeckte\n",
    "- koennen durch tests veraendert oder geloescht werden ohne echte daten zu beeinflussen\n",
    "- hinterlassen keine rueckstaende"
   ]
  },
  {
   "cell_type": "code",
   "execution_count": null,
   "id": "c1f4b1db-033f-4213-aedf-77d2ad2555d2",
   "metadata": {},
   "outputs": [],
   "source": [
    "print(\"temp\")"
   ]
  },
  {
   "cell_type": "markdown",
   "id": "70b12f19-ea87-4d7c-bd26-04c185ca9d74",
   "metadata": {},
   "source": [
    "\n",
    "### Was sind diese Github Actions / Gitlab Pipelines\n",
    "\n",
    "- sind Tests die beim Mergen, Mergerequests oder bei Commits aufgefuehrt werden\n",
    "- Jenkins aehnlich nur local\n",
    "\n"
   ]
  },
  {
   "cell_type": "code",
   "execution_count": null,
   "id": "9adc298d-21fc-4e2a-b053-d1ddafa049e3",
   "metadata": {},
   "outputs": [],
   "source": [
    "print(\"temp\")"
   ]
  },
  {
   "cell_type": "markdown",
   "id": "6c1bf734-50e2-47c9-b4f0-564646afdae1",
   "metadata": {},
   "source": [
    "\n",
    "## Was spricht gegen TDD\n",
    "\n",
    "- aehnlich wie bei PAP, Strucktogramm, UML etc.\n",
    "- hoher Zeitaufwand\n",
    "- grossteil der Programmierzeit ist in den Tests\n",
    "- viel Disziplin\n",
    "- bei wenig erfahrung nicht alles evtl. abgedeckt\n",
    "- probleme bei refactoring\n",
    "> Trotz aller Tests koennen immernoch Fehler sich unterschleichen"
   ]
  }
 ],
 "metadata": {
  "kernelspec": {
   "display_name": "Python 3 (ipykernel)",
   "language": "python",
   "name": "python3"
  },
  "language_info": {
   "codemirror_mode": {
    "name": "ipython",
    "version": 3
   },
   "file_extension": ".py",
   "mimetype": "text/x-python",
   "name": "python",
   "nbconvert_exporter": "python",
   "pygments_lexer": "ipython3",
   "version": "3.11.6"
  }
 },
 "nbformat": 4,
 "nbformat_minor": 5
}
